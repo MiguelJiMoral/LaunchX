{
 "cells": [
  {
   "cell_type": "markdown",
   "metadata": {},
   "source": [
    "## Ejercicio Uso de Funciones en Python\n",
    "En este ejercicio construiremos un informe de combustible que requiere informacion de varias ubicaciones de combustible en todo el cohete."
   ]
  },
  {
   "cell_type": "code",
   "execution_count": 3,
   "metadata": {},
   "outputs": [],
   "source": [
    "def combustible(tanque_principal, tanque_secundario, tanque_repuesto):\n",
    "    promedio = (tanque_principal + tanque_secundario + tanque_repuesto) / 3\n",
    "    return f\"\"\"Reporte de Combustible:\n",
    "    Promedio de Combustible: {promedio}%\n",
    "    Tanque principal: {tanque_principal}%\n",
    "    Tanque secundario: {tanque_secundario}%\n",
    "    Tanque de respuesto: {tanque_repuesto}%\n",
    "    \"\"\""
   ]
  },
  {
   "cell_type": "markdown",
   "metadata": {},
   "source": [
    "Imprimimos el reporte general del combustible"
   ]
  },
  {
   "cell_type": "code",
   "execution_count": 4,
   "metadata": {},
   "outputs": [
    {
     "name": "stdout",
     "output_type": "stream",
     "text": [
      "Reporte de Combustible:\n",
      "    Promedio de Combustible: 85.0%\n",
      "    Tanque principal: 80%\n",
      "    Tanque secundario: 90%\n",
      "    Tanque de respuesto: 85%\n",
      "    \n"
     ]
    }
   ],
   "source": [
    "print(combustible(80, 90, 85))"
   ]
  },
  {
   "cell_type": "markdown",
   "metadata": {},
   "source": [
    "Mejoraremos la legibilidad extrayendo el calculo promedio de la funcion en una nueva funcion para que haga el promedio de una forma idenpediente."
   ]
  },
  {
   "cell_type": "code",
   "execution_count": 6,
   "metadata": {},
   "outputs": [
    {
     "data": {
      "text/plain": [
       "82.0"
      ]
     },
     "execution_count": 6,
     "metadata": {},
     "output_type": "execute_result"
    }
   ],
   "source": [
    "def promedio(valores):\n",
    "    total = sum(valores)\n",
    "    numero_objetos = len(valores)\n",
    "    return total / numero_objetos\n",
    "promedio([80, 85, 81])"
   ]
  },
  {
   "cell_type": "markdown",
   "metadata": {},
   "source": [
    "Ahora actualizaremos las funciones"
   ]
  },
  {
   "cell_type": "code",
   "execution_count": 7,
   "metadata": {},
   "outputs": [],
   "source": [
    "def reporte_general(tanque_principal, tanque_secundario, tanque_repuesto):\n",
    "    return f\"\"\"Reporte Combustible:\n",
    "    Promedio total: {promedio([tanque_principal, tanque_secundario, tanque_repuesto])}\n",
    "    Tanque principal: {tanque_principal}%\n",
    "    Tanque secundario: {tanque_secundario}%\n",
    "    Tanque repuesto: {tanque_repuesto}%\"\"\""
   ]
  },
  {
   "cell_type": "code",
   "execution_count": 8,
   "metadata": {},
   "outputs": [
    {
     "name": "stdout",
     "output_type": "stream",
     "text": [
      "Reporte Combustible:\n",
      "    Promedio total: 78.0\n",
      "    Tanque principal: 88%\n",
      "    Tanque secundario: 76%\n",
      "    Tanque repuesto: 70%\n"
     ]
    }
   ],
   "source": [
    "print(reporte_general(88, 76, 70))"
   ]
  },
  {
   "cell_type": "markdown",
   "metadata": {},
   "source": [
    "## Ejercicio: Trabajo con argumentos de palabra clave\n",
    "Construiremos un informe de cohete que requiere varias piezas de informacion, tiempo hasta el destino, combustible a la izquierda y el nombre del destino."
   ]
  },
  {
   "cell_type": "code",
   "execution_count": 12,
   "metadata": {},
   "outputs": [
    {
     "name": "stdout",
     "output_type": "stream",
     "text": [
      " Destino: Saturno\n",
      "    Tiempo total del vuelo:65 minutos\n",
      "    Combustible restantes 500000 galones\n"
     ]
    }
   ],
   "source": [
    "def informe(prelanzamiento, tdestino, lcombustible, destino, tanque_principal):\n",
    "    return f\"\"\" Destino: {destino}\n",
    "    Tiempo total del vuelo:{prelanzamiento + tdestino} minutos\n",
    "    Combustible restantes {lcombustible + tanque_principal} galones\"\"\"\n",
    "\n",
    "print(informe(14, 51, 200000, \"Saturno\", 300000))"
   ]
  },
  {
   "cell_type": "markdown",
   "metadata": {},
   "source": [
    "La funcion es problematica debido a que no se puede adaptar para minutos adicionales o tanques adicionales. Es nuestro deber hacerlo mas flexible permitiendo que cualquier numero de pasos basados en el tiempo y cualquier numero de tanques."
   ]
  },
  {
   "cell_type": "code",
   "execution_count": 1,
   "metadata": {},
   "outputs": [
    {
     "name": "stdout",
     "output_type": "stream",
     "text": [
      " Destino: Saturno\n",
      "    Tiempo total del vuelo:74 minutos\n",
      "    Combustible restante: 500000\n"
     ]
    }
   ],
   "source": [
    "def reporte(destino, *minutos, **combustible):\n",
    "    return f\"\"\" Destino: {destino}\n",
    "    Tiempo total del vuelo:{sum(minutos)} minutos\n",
    "    Combustible restante: {sum(combustible.values())}\"\"\"\n",
    "print(reporte(\"Saturno\", 8, 15, 51, main=300000, external=200000))"
   ]
  },
  {
   "cell_type": "markdown",
   "metadata": {},
   "source": [
    "Debido a que el combustible que queda en los tanques es especifico de cada tanque, actualicemos la funcion para usar el nombre de cada tanque en el informe:"
   ]
  },
  {
   "cell_type": "code",
   "execution_count": 2,
   "metadata": {},
   "outputs": [
    {
     "name": "stdout",
     "output_type": "stream",
     "text": [
      "\n",
      "    Destino Saturno\n",
      "    Tiempo de Vuelo: 74 minutos\n",
      "    Combustible restante: 500000main tanque ---> 300000 galones restantes\n",
      "external tanque ---> 200000 galones restantes\n",
      "\n"
     ]
    }
   ],
   "source": [
    "def reporte(destino, *minutos, **combustible):\n",
    "    principal = f\"\"\"\n",
    "    Destino {destino}\n",
    "    Tiempo de Vuelo: {sum(minutos)} minutos\n",
    "    Combustible restante: {sum(combustible.values())}\"\"\"\n",
    "    for tanque, galones in combustible.items():\n",
    "        principal+= f\"{tanque} tanque ---> {galones} galones restantes\\n\"\n",
    "    return principal\n",
    "print(reporte(\"Saturno\", 8,11,55, main=300000, external=200000))"
   ]
  }
 ],
 "metadata": {
  "interpreter": {
   "hash": "5907c8854fefef16f8b18430ee10aa92a09138d0841eb92123209d108dd4366b"
  },
  "kernelspec": {
   "display_name": "Python 3.10.2 ('env': venv)",
   "language": "python",
   "name": "python3"
  },
  "language_info": {
   "codemirror_mode": {
    "name": "ipython",
    "version": 3
   },
   "file_extension": ".py",
   "mimetype": "text/x-python",
   "name": "python",
   "nbconvert_exporter": "python",
   "pygments_lexer": "ipython3",
   "version": "3.10.2"
  },
  "orig_nbformat": 4
 },
 "nbformat": 4,
 "nbformat_minor": 2
}
