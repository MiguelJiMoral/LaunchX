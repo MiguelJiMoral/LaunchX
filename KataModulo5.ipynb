{
 "cells": [
  {
   "cell_type": "markdown",
   "metadata": {},
   "source": [
    "## Ejercicio: Utilizar operadores aritmeticos\n",
    "En esta seccion exploraremos como crear un programa que pueda calcular la distancia entre dos planetas. Comenzaremos usando dos distancias de planetas: Tierra(149.597.870 km) y Jupiter (778.547.200 km)"
   ]
  },
  {
   "cell_type": "code",
   "execution_count": 4,
   "metadata": {},
   "outputs": [
    {
     "name": "stdout",
     "output_type": "stream",
     "text": [
      "Distancia entre la tierra y jupiter es:  628949330 km\n",
      "Distancia entre la tierra y jupiter es:  390577533.93 millas\n"
     ]
    }
   ],
   "source": [
    "tierra = 149597870\n",
    "jupiter = 778547200\n",
    "\n",
    "distanciatj = jupiter - tierra\n",
    "print(\"Distancia entre la tierra y jupiter es: \" , distanciatj , \"km\")\n",
    "\n",
    "distanciami = distanciatj * 0.621\n",
    "print(\"Distancia entre la tierra y jupiter es: \" , distanciami , \"millas\")\n"
   ]
  },
  {
   "cell_type": "markdown",
   "metadata": {},
   "source": [
    "## Ejercicio: Convierte cadenas en numeros y usa valores absolutos\n",
    "Con frecuencia debemos convertir los valores de cadena en numeros para realizar correctamente diferentes operaciones o determinar el valor absoluto de un numero.\n",
    "\n",
    "Para crear nuestra aplicacion, queremos leer la distancia del sol para dos planetas y luego mostrar la distancia entre los planetas. \n",
    "Utilizaremos un input para leer los valores"
   ]
  },
  {
   "cell_type": "code",
   "execution_count": 5,
   "metadata": {},
   "outputs": [
    {
     "name": "stdout",
     "output_type": "stream",
     "text": [
      "La distancia que tienen es:  720700000 km\n",
      "447554700.0\n"
     ]
    }
   ],
   "source": [
    "primer_planeta = input(\"Introduzca la Distancia al sol del primer planeta en km\")\n",
    "segundo_planeta = input(\"Introduzca la Distancia al sol del segundo planeta en km\")\n",
    "\n",
    "primer_planeta = int(primer_planeta)\n",
    "segundo_planeta = int(segundo_planeta)\n",
    "\n",
    "distanciakm = segundo_planeta - primer_planeta\n",
    "print(\"La distancia que tienen es: \", distanciakm, \"km\")\n",
    "\n",
    "distanciami = distanciakm * 0.621\n",
    "print(abs(distanciami))\n",
    "\n"
   ]
  }
 ],
 "metadata": {
  "interpreter": {
   "hash": "07b4f386622bb92a33344d1e08ffcaadd207c27dacd0178b5fd69b786c348668"
  },
  "kernelspec": {
   "display_name": "Python 3.10.0 64-bit",
   "language": "python",
   "name": "python3"
  },
  "language_info": {
   "codemirror_mode": {
    "name": "ipython",
    "version": 3
   },
   "file_extension": ".py",
   "mimetype": "text/x-python",
   "name": "python",
   "nbconvert_exporter": "python",
   "pygments_lexer": "ipython3",
   "version": "3.10.0"
  },
  "orig_nbformat": 4
 },
 "nbformat": 4,
 "nbformat_minor": 2
}
