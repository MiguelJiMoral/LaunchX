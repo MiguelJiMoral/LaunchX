{
 "cells": [
  {
   "cell_type": "markdown",
   "metadata": {},
   "source": [
    "## Ejercicio: Creacion de un bucle 'while'\n",
    "En este ejercicio se creara una aplicación que solicite al usuario que ingrese una lista de planetas.\n",
    "Comenzaremos agregando dos variables, una para la entrada del usuario, con el nombre new_planet, y otra variables para la lista de planetas denominada plantets."
   ]
  },
  {
   "cell_type": "code",
   "execution_count": 2,
   "metadata": {},
   "outputs": [],
   "source": [
    "new_planet = ''\n",
    "planets = []"
   ]
  },
  {
   "cell_type": "markdown",
   "metadata": {},
   "source": [
    "Luego de crear las variables, iniciaremos nuestro ciclo while que se ejecutara mientras el new_planet no sea igual a la palabra 'done'. Finalmente usaremos input para solicitar al usuario que ingrese un nuevo nombre del planeta o escriba done si ha terminado de ingresar nombres de planeta."
   ]
  },
  {
   "cell_type": "code",
   "execution_count": 3,
   "metadata": {},
   "outputs": [],
   "source": [
    "while new_planet.lower() != 'done':\n",
    "    if new_planet:\n",
    "        planets.append(new_planet)\n",
    "    new_planet= input('Enter a new planet')"
   ]
  },
  {
   "cell_type": "markdown",
   "metadata": {},
   "source": [
    "## Ejercicio: Creacion de un ciclo 'for'\n",
    "Ahora que ya tenemos nuestra lista de planeta que se creo en el ejercicio anterior, tocara en este mostrar la lista de dichos planetas.\n",
    "Crearemos un ciclo for para iterar sobre la lista planets."
   ]
  },
  {
   "cell_type": "code",
   "execution_count": 4,
   "metadata": {},
   "outputs": [],
   "source": [
    "for planet in planets:\n",
    "    print(planet)"
   ]
  }
 ],
 "metadata": {
  "interpreter": {
   "hash": "5907c8854fefef16f8b18430ee10aa92a09138d0841eb92123209d108dd4366b"
  },
  "kernelspec": {
   "display_name": "Python 3.10.2 ('env': venv)",
   "language": "python",
   "name": "python3"
  },
  "language_info": {
   "codemirror_mode": {
    "name": "ipython",
    "version": 3
   },
   "file_extension": ".py",
   "mimetype": "text/x-python",
   "name": "python",
   "nbconvert_exporter": "python",
   "pygments_lexer": "ipython3",
   "version": "3.10.2"
  },
  "orig_nbformat": 4
 },
 "nbformat": 4,
 "nbformat_minor": 2
}
