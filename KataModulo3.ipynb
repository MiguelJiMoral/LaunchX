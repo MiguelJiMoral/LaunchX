{
 "cells": [
  {
   "cell_type": "markdown",
   "metadata": {},
   "source": [
    "### Ejercicio - Escribir declaraciones if, else y elif.\n",
    "Escribir una logica condicional que imprima una advertencia si un asteroide se acerca a la Tierra demasiado rapido\n",
    "\n",
    "La velocidad de un asteroide varia dependiendo de lo cerca que este del sol y cualquier velocidad superior a 25 Kilometros por segundo (km/s) merece una advertencia. Un asteroide se acerca y viaja a una velocidad de 49 km/s."
   ]
  },
  {
   "cell_type": "code",
   "execution_count": 1,
   "metadata": {},
   "outputs": [
    {
     "name": "stdout",
     "output_type": "stream",
     "text": [
      "¡Alerta!, Un asteroide se aproxima a la tierra con una velocidad mayor a 25 km/s\n"
     ]
    }
   ],
   "source": [
    "# Se declara la velocidad del asteroide\n",
    "asteroid = 49\n",
    "# Se realiza una lógica condicional para saber si un asteroide se acerca a la tierra\n",
    "if asteroid > 25:\n",
    "    # En caso de que sea verdadero, advertir a la tripulacion\n",
    "    print('¡Alerta!, Un asteroide se aproxima a la tierra con una velocidad mayor a 25 km/s')\n",
    "else:\n",
    "    # En caso de que sea falso, informar que no hay peligro\n",
    "    print(\"Pueden continuar con su día como de costumbre\")"
   ]
  },
  {
   "cell_type": "markdown",
   "metadata": {},
   "source": [
    "Si un asteroide entra en la atmosfera de la Tierra a una celocidad mayor o igual a 20 km/s, produce un rayo de luz que se puede ver desde la tierra. (Escribir la logica condicional utilizando las declaraciones if, else y elif)"
   ]
  },
  {
   "cell_type": "code",
   "execution_count": 3,
   "metadata": {},
   "outputs": [
    {
     "name": "stdout",
     "output_type": "stream",
     "text": [
      "Todo esta bajo control tropa...\n"
     ]
    }
   ],
   "source": [
    "# Se dan las nuevas especificaciones del nuevo asteroide\n",
    "asteroid2 = 19\n",
    "# Se realiza una logica condicional para ver un rayo de luz se acerca\n",
    "if asteroid2 > 20:\n",
    "#En dado caso que sea verdadero informarle a la tripulacion\n",
    "    print(\"¡Cuidado!, ¡Un rayo de luz se puede ver desde la Tierra!\")\n",
    "# Si no se cumple la condicional anterior pasar a la siguiente para realizar su condicional\n",
    "elif asteroid2 == 20:\n",
    "# Si es verdadera advertir a la tripulacion\n",
    "    print(\"¡Cuidado!, ¡Un rayo de luz se puede ver desde la Tierra!\")\n",
    "#Si ninguna de las opciones fue verdadera pasar a la ultima condicional\n",
    "else:\n",
    "    print(\"Todo esta bajo control tropa...\")"
   ]
  },
  {
   "cell_type": "markdown",
   "metadata": {},
   "source": [
    "## Ejercicio: Uso de operadores and y or\n",
    "Aprenderemos información más matizada sobre cuando los asteroides representan un peligro para la Tierra, y utilizaremos dicha información para mejorar nuestro sistema de Advertencia.\n",
    "\n",
    "Los asteroides de menos de 25 metros en su dimension mas grande probablemente se quemaran a medida que entren en la atmosfera de la Tierra.\n",
    "\n",
    "    Si una pieza de asteroide que es mas grande que 25 metros pero mas pequeña que 1000 metros golpeara la Tierra, causaria mucho daño.\n",
    "\n",
    "Tambien discutimos anteriormente que:\n",
    "\n",
    "    La velocidad del asteroide varia en funcion de lo cerca que este del sol y cualquier velocidad superior a 25 kilometros por segunfo (km/s) merece una advertencia.\n",
    "\n",
    "    Si un asteroide entra en la atmosfera de la Tierra a una velocidad mayor o igual a 20 kms/s, a veces produce un rayo de luz que se puede ver desde la Tierra.\n",
    "\n",
    "Usando esta informacion y la que se dio anteriormente escriba un programa que emita la advertencia o informacion correcta a la gente de la Tierra, segun la velocidad y el tamaño de un asteroide."
   ]
  },
  {
   "cell_type": "code",
   "execution_count": 4,
   "metadata": {},
   "outputs": [
    {
     "name": "stdout",
     "output_type": "stream",
     "text": [
      "¡Cuidado!, ¡Hay un rayo de Luz!\n"
     ]
    }
   ],
   "source": [
    "# Se declaran las variables dadas\n",
    "v_asteroid = 25\n",
    "t_asteroid = 40\n",
    "# Se realizan las respectivas logicas condicionales incluyendo ahora las 2 variables\n",
    "if v_asteroid > 25 and t_asteroid > 25:\n",
    "    print(\"¡Advertencia!, ¡Asteroide peligroso se aproxima a la tierra!\")\n",
    "elif v_asteroid >= 20:\n",
    "    print(\"¡Cuidado!, ¡Hay un rayo de Luz!\")\n",
    "elif t_asteroid < 25:\n",
    "    print(\"Todo en orden tropa....\")\n",
    "else:\n",
    "    print(\"Todo bien tropa...\")"
   ]
  }
 ],
 "metadata": {
  "interpreter": {
   "hash": "73ce9444f9895c6acb7425d70193b8419cbd43a50ecdc9401c4b662f4fbab832"
  },
  "kernelspec": {
   "display_name": "Python 3.10.2 64-bit (windows store)",
   "language": "python",
   "name": "python3"
  },
  "language_info": {
   "codemirror_mode": {
    "name": "ipython",
    "version": 3
   },
   "file_extension": ".py",
   "mimetype": "text/x-python",
   "name": "python",
   "nbconvert_exporter": "python",
   "pygments_lexer": "ipython3",
   "version": "3.10.2"
  },
  "orig_nbformat": 4
 },
 "nbformat": 4,
 "nbformat_minor": 2
}
