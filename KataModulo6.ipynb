{
 "cells": [
  {
   "cell_type": "markdown",
   "metadata": {},
   "source": [
    "## Ejercicio: Crear y usar listas de Python\n",
    "\n",
    "Comenzaremos nuestro programa sobre informacion planetaria creando una lista de planetas.\n",
    "\n",
    "Crear una variable planets. Agregar los ocho planetas a la listas (sin Pluton) y mostrar el numero de planetas."
   ]
  },
  {
   "cell_type": "code",
   "execution_count": 2,
   "metadata": {},
   "outputs": [
    {
     "name": "stdout",
     "output_type": "stream",
     "text": [
      "Hay un total de  8 planetas\n"
     ]
    }
   ],
   "source": [
    "planets = ['Mercury', 'Venus', 'Earth', 'Jupyter', 'Saturn', 'Uranus', 'Neptune']\n",
    "print('Hay un total de ', (len(planets)+1), 'planetas')"
   ]
  },
  {
   "cell_type": "markdown",
   "metadata": {},
   "source": [
    "Agregar Plutón a la lista y mostrar el numero de planetas y el ultimo planeta en la lista"
   ]
  },
  {
   "cell_type": "code",
   "execution_count": 14,
   "metadata": {},
   "outputs": [
    {
     "name": "stdout",
     "output_type": "stream",
     "text": [
      "Hay un total de  9 planetas\n",
      "Pluton Es el ultimo planeta\n"
     ]
    }
   ],
   "source": [
    "planets = ['Mercury', 'Venus', 'Earth', 'Jupyter', 'Saturn', 'Uranus', 'Neptune']\n",
    "planets.append('Pluton')\n",
    "print('Hay un total de ', (len(planets)+1), 'planetas')\n",
    "print(planets[-1], 'Es el ultimo planeta')"
   ]
  },
  {
   "cell_type": "markdown",
   "metadata": {},
   "source": [
    "## Ejercicio 2: Trabajando con datos de una lista\n",
    "En este programa queremos mostrar planetas mas cerca y lejos del sol de un planeta que el usuario ingresa por teclado.\n",
    "\n",
    "Comencemos agregando el codigo para crear una lista "
   ]
  },
  {
   "cell_type": "code",
   "execution_count": 26,
   "metadata": {},
   "outputs": [],
   "source": [
    "planets = ['Mercury', 'Venus', 'Earth', 'Jupyter', 'Saturn', 'Uranus', 'Neptune']"
   ]
  },
  {
   "cell_type": "markdown",
   "metadata": {},
   "source": [
    "A continuacion, le pedimos al usuario que ingrese un nombre. Como Python distingue entre mayusculas y minusculas pedir que usa una letra mayuscula para comenzar el nombre del planeta."
   ]
  },
  {
   "cell_type": "code",
   "execution_count": 27,
   "metadata": {},
   "outputs": [],
   "source": [
    "usuario_planets = input('Por favor ingrese el planeta empezando con la primera letra mayuscula')"
   ]
  },
  {
   "cell_type": "markdown",
   "metadata": {},
   "source": [
    "Encontrar el planeta que el usuario ingreso"
   ]
  },
  {
   "cell_type": "code",
   "execution_count": 28,
   "metadata": {},
   "outputs": [],
   "source": [
    "planets_indice = planets.index(usuario_planets)"
   ]
  },
  {
   "cell_type": "markdown",
   "metadata": {},
   "source": [
    "Mostrar planetas mas cercanos al sol que el que el usuario ingreso"
   ]
  },
  {
   "cell_type": "code",
   "execution_count": 29,
   "metadata": {},
   "outputs": [
    {
     "name": "stdout",
     "output_type": "stream",
     "text": [
      "Planetas que estan cerca de  Saturn\n",
      "['Mercury', 'Venus', 'Earth', 'Jupyter']\n"
     ]
    }
   ],
   "source": [
    "print('Planetas que estan cerca de ', usuario_planets)\n",
    "print(planets[0:planets_indice])"
   ]
  },
  {
   "cell_type": "markdown",
   "metadata": {},
   "source": [
    "Ahora mostraremos los planetas mas alejados del sol que el usuario ingreso"
   ]
  },
  {
   "cell_type": "code",
   "execution_count": 30,
   "metadata": {},
   "outputs": [
    {
     "name": "stdout",
     "output_type": "stream",
     "text": [
      "Planetas que estan lejos de  Saturn\n",
      "['Uranus', 'Neptune']\n"
     ]
    }
   ],
   "source": [
    "print('Planetas que estan lejos de ', usuario_planets)\n",
    "print(planets[planets_indice+1:])"
   ]
  }
 ],
 "metadata": {
  "interpreter": {
   "hash": "07b4f386622bb92a33344d1e08ffcaadd207c27dacd0178b5fd69b786c348668"
  },
  "kernelspec": {
   "display_name": "Python 3.10.0 64-bit",
   "language": "python",
   "name": "python3"
  },
  "language_info": {
   "codemirror_mode": {
    "name": "ipython",
    "version": 3
   },
   "file_extension": ".py",
   "mimetype": "text/x-python",
   "name": "python",
   "nbconvert_exporter": "python",
   "pygments_lexer": "ipython3",
   "version": "3.10.0"
  },
  "orig_nbformat": 4
 },
 "nbformat": 4,
 "nbformat_minor": 2
}
