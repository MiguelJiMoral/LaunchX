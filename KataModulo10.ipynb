{
 "cells": [
  {
   "cell_type": "code",
   "execution_count": null,
   "metadata": {},
   "outputs": [],
   "source": []
  },
  {
   "cell_type": "markdown",
   "metadata": {},
   "source": [
    "## Ejercicio: Manejo de Errores\n",
    "Tracebacks:\n",
    "Un traceback es el equipo del texto que puede apuntar al origen de un error no controlado. La primera vez que encuentres excepciones en Python podrias verte tentado/a a evitar el error suprimiendolo. Hay maneras de controlar correctamente los errores para que no aparezcan o muestren informacion Util\n"
   ]
  },
  {
   "cell_type": "markdown",
   "metadata": {},
   "source": [
    "Agregaremos un codigo que abre un archivo inexistente. esta funcion usa a un asistente de Python que indica al interprete que ejecute la funcion main cuando se le llama en el terminal. "
   ]
  },
  {
   "cell_type": "code",
   "execution_count": 1,
   "metadata": {},
   "outputs": [
    {
     "ename": "FileNotFoundError",
     "evalue": "[Errno 2] No such file or directory: '/path/to/mars.jpg'",
     "output_type": "error",
     "traceback": [
      "\u001b[1;31m---------------------------------------------------------------------------\u001b[0m",
      "\u001b[1;31mFileNotFoundError\u001b[0m                         Traceback (most recent call last)",
      "\u001b[1;32mc:\\Users\\mijim\\Documents\\Visual Studio Programas\\LaunchX\\KataModulo10.ipynb Cell 4'\u001b[0m in \u001b[0;36m<module>\u001b[1;34m\u001b[0m\n\u001b[0;32m      <a href='vscode-notebook-cell:/c%3A/Users/mijim/Documents/Visual%20Studio%20Programas/LaunchX/KataModulo10.ipynb#ch0000003?line=1'>2</a>\u001b[0m     \u001b[39mopen\u001b[39m(\u001b[39m\"\u001b[39m\u001b[39m/path/to/mars.jpg\u001b[39m\u001b[39m\"\u001b[39m)\n\u001b[0;32m      <a href='vscode-notebook-cell:/c%3A/Users/mijim/Documents/Visual%20Studio%20Programas/LaunchX/KataModulo10.ipynb#ch0000003?line=2'>3</a>\u001b[0m \u001b[39mif\u001b[39;00m \u001b[39m__name__\u001b[39m \u001b[39m==\u001b[39m \u001b[39m'\u001b[39m\u001b[39m__main__\u001b[39m\u001b[39m'\u001b[39m:\n\u001b[1;32m----> <a href='vscode-notebook-cell:/c%3A/Users/mijim/Documents/Visual%20Studio%20Programas/LaunchX/KataModulo10.ipynb#ch0000003?line=3'>4</a>\u001b[0m     main()\n",
      "\u001b[1;32mc:\\Users\\mijim\\Documents\\Visual Studio Programas\\LaunchX\\KataModulo10.ipynb Cell 4'\u001b[0m in \u001b[0;36mmain\u001b[1;34m()\u001b[0m\n\u001b[0;32m      <a href='vscode-notebook-cell:/c%3A/Users/mijim/Documents/Visual%20Studio%20Programas/LaunchX/KataModulo10.ipynb#ch0000003?line=0'>1</a>\u001b[0m \u001b[39mdef\u001b[39;00m \u001b[39mmain\u001b[39m():\n\u001b[1;32m----> <a href='vscode-notebook-cell:/c%3A/Users/mijim/Documents/Visual%20Studio%20Programas/LaunchX/KataModulo10.ipynb#ch0000003?line=1'>2</a>\u001b[0m     \u001b[39mopen\u001b[39;49m(\u001b[39m\"\u001b[39;49m\u001b[39m/path/to/mars.jpg\u001b[39;49m\u001b[39m\"\u001b[39;49m)\n",
      "\u001b[1;31mFileNotFoundError\u001b[0m: [Errno 2] No such file or directory: '/path/to/mars.jpg'"
     ]
    }
   ],
   "source": [
    "def main():\n",
    "    open(\"/path/to/mars.jpg\")\n",
    "if __name__ == '__main__':\n",
    "    main()"
   ]
  },
  {
   "cell_type": "markdown",
   "metadata": {},
   "source": [
    "Controlando excepciones:\n",
    "Los archivos pueden tener todo tipo de problemas, por lo que es fundamental notificarlos con precision cuando se presenten. Sabemos que si queremos controlar esa excepcion podemos hacerlo con un bloque try y except:"
   ]
  },
  {
   "cell_type": "code",
   "execution_count": 4,
   "metadata": {},
   "outputs": [
    {
     "name": "stdout",
     "output_type": "stream",
     "text": [
      "No se encontro el archivo config.txt\n"
     ]
    }
   ],
   "source": [
    "try:\n",
    "    open('config.txt')\n",
    "except FileNotFoundError:\n",
    "    print('No se encontro el archivo config.txt')"
   ]
  },
  {
   "cell_type": "markdown",
   "metadata": {},
   "source": [
    "Vamos a hacer otro codigo que busque y lee un archivo de configuracion del sistema de navegacion"
   ]
  },
  {
   "cell_type": "code",
   "execution_count": 7,
   "metadata": {},
   "outputs": [
    {
     "name": "stdout",
     "output_type": "stream",
     "text": [
      "No se encontro el archivo config.txt\n"
     ]
    }
   ],
   "source": [
    "def main():\n",
    "    try:\n",
    "        configuration = open('config.txt')\n",
    "    except FileNotFoundError:\n",
    "        print(\"No se encontro el archivo config.txt\")\n",
    "    except IsADirectoryError:\n",
    "        print(\"Archivo encontrado pero el directorio no se pudo leer\")\n",
    "main()"
   ]
  },
  {
   "cell_type": "markdown",
   "metadata": {},
   "source": [
    "Cuando los errores son de una naturaleza similar podemos agrupar las excepciones como una usando parentesis en la linea except. Un ejemplo es el sistema de navegacion si esta bajo cargas pesadas y el sistema de archivos esta demasiado ocupado, tiene sentido detectar BlockingIOError y TimeOutError juntos:"
   ]
  },
  {
   "cell_type": "code",
   "execution_count": 9,
   "metadata": {},
   "outputs": [
    {
     "name": "stdout",
     "output_type": "stream",
     "text": [
      "No se pudo encontrar el archivo config.txt\n"
     ]
    }
   ],
   "source": [
    "def main():\n",
    "    try:\n",
    "        configuracion = open('config.txt')\n",
    "    except FileNotFoundError:\n",
    "        print(\"No se pudo encontrar el archivo config.txt\")\n",
    "    except IsADirectoryError:\n",
    "        print(\"Encontrado el archivo config.txt, pero el directorio no se pudo leer\")\n",
    "    except (BlockingIOError, TimeoutError):\n",
    "        print(\"Sistema de Archivos esta bajo sobre carga, no se pudo completar con la lectura\")\n",
    "main()"
   ]
  },
  {
   "cell_type": "markdown",
   "metadata": {},
   "source": [
    "Si necesitamos acceder al error asociado a la excepcion, debemos actualizar la linea except para incluir la clave as. Esta es una tecnixa para acceder directamente a los atributos del error. Por ejemplo, si detecta una excepcion OSError mas generica, que es la excepcion primaria de FileNotFoundError y PermissionError."
   ]
  },
  {
   "cell_type": "code",
   "execution_count": 11,
   "metadata": {},
   "outputs": [
    {
     "name": "stdout",
     "output_type": "stream",
     "text": [
      "No se encontro el archivo config.txt\n"
     ]
    }
   ],
   "source": [
    "try:\n",
    "    open(\"config.txt\")\n",
    "except OSError as err:\n",
    "    if err.errno == 2:\n",
    "        print(\"No se encontro el archivo config.txt\")\n",
    "    elif err.errno == 13:\n",
    "        print(\"Se encontro el archivo config.txt pero no se pudo leer\")\n"
   ]
  },
  {
   "cell_type": "markdown",
   "metadata": {},
   "source": [
    "Generacion de excepciones\n",
    "La generacion de excepciones tambien puede ayudar en la toma de decisiones para otro codigo, Como hemos visto antes, en funcion del error, el codigo puede tomar decisiones inteligentes para resolver, solucionar o ignorar un problema.\n",
    "\n",
    "Probemos con cinco astronautas, 100 litros de agua sobrante y dos dias:"
   ]
  },
  {
   "cell_type": "code",
   "execution_count": 14,
   "metadata": {},
   "outputs": [
    {
     "ename": "RuntimeError",
     "evalue": "No hay suficiente agua para 5 astronautas en 2",
     "output_type": "error",
     "traceback": [
      "\u001b[1;31m---------------------------------------------------------------------------\u001b[0m",
      "\u001b[1;31mRuntimeError\u001b[0m                              Traceback (most recent call last)",
      "\u001b[1;32mc:\\Users\\mijim\\Documents\\Visual Studio Programas\\LaunchX\\KataModulo10.ipynb Cell 14'\u001b[0m in \u001b[0;36m<module>\u001b[1;34m\u001b[0m\n\u001b[0;32m      <a href='vscode-notebook-cell:/c%3A/Users/mijim/Documents/Visual%20Studio%20Programas/LaunchX/KataModulo10.ipynb#ch0000014?line=6'>7</a>\u001b[0m         \u001b[39mraise\u001b[39;00m \u001b[39mRuntimeError\u001b[39;00m(\u001b[39mf\u001b[39m\u001b[39m\"\u001b[39m\u001b[39mNo hay suficiente agua para \u001b[39m\u001b[39m{\u001b[39;00mastronauta\u001b[39m}\u001b[39;00m\u001b[39m astronautas en \u001b[39m\u001b[39m{\u001b[39;00mdias_r\u001b[39m}\u001b[39;00m\u001b[39m\"\u001b[39m)\n\u001b[0;32m      <a href='vscode-notebook-cell:/c%3A/Users/mijim/Documents/Visual%20Studio%20Programas/LaunchX/KataModulo10.ipynb#ch0000014?line=7'>8</a>\u001b[0m     \u001b[39mreturn\u001b[39;00m \u001b[39mf\u001b[39m\u001b[39m\"\u001b[39m\u001b[39mTotal de agua restante despues de \u001b[39m\u001b[39m{\u001b[39;00mdias_r\u001b[39m}\u001b[39;00m\u001b[39m dias es \u001b[39m\u001b[39m{\u001b[39;00muso_total_agua\u001b[39m}\u001b[39;00m\u001b[39m\"\u001b[39m\n\u001b[1;32m----> <a href='vscode-notebook-cell:/c%3A/Users/mijim/Documents/Visual%20Studio%20Programas/LaunchX/KataModulo10.ipynb#ch0000014?line=8'>9</a>\u001b[0m water_left(\u001b[39m5\u001b[39;49m, \u001b[39m100\u001b[39;49m, \u001b[39m2\u001b[39;49m)\n",
      "\u001b[1;32mc:\\Users\\mijim\\Documents\\Visual Studio Programas\\LaunchX\\KataModulo10.ipynb Cell 14'\u001b[0m in \u001b[0;36mwater_left\u001b[1;34m(astronauta, agua_r, dias_r)\u001b[0m\n\u001b[0;32m      <a href='vscode-notebook-cell:/c%3A/Users/mijim/Documents/Visual%20Studio%20Programas/LaunchX/KataModulo10.ipynb#ch0000014?line=4'>5</a>\u001b[0m uso_total_agua \u001b[39m=\u001b[39m agua_r \u001b[39m-\u001b[39m uso_total\n\u001b[0;32m      <a href='vscode-notebook-cell:/c%3A/Users/mijim/Documents/Visual%20Studio%20Programas/LaunchX/KataModulo10.ipynb#ch0000014?line=5'>6</a>\u001b[0m \u001b[39mif\u001b[39;00m uso_total_agua \u001b[39m<\u001b[39m\u001b[39m0\u001b[39m:\n\u001b[1;32m----> <a href='vscode-notebook-cell:/c%3A/Users/mijim/Documents/Visual%20Studio%20Programas/LaunchX/KataModulo10.ipynb#ch0000014?line=6'>7</a>\u001b[0m     \u001b[39mraise\u001b[39;00m \u001b[39mRuntimeError\u001b[39;00m(\u001b[39mf\u001b[39m\u001b[39m\"\u001b[39m\u001b[39mNo hay suficiente agua para \u001b[39m\u001b[39m{\u001b[39;00mastronauta\u001b[39m}\u001b[39;00m\u001b[39m astronautas en \u001b[39m\u001b[39m{\u001b[39;00mdias_r\u001b[39m}\u001b[39;00m\u001b[39m\"\u001b[39m)\n\u001b[0;32m      <a href='vscode-notebook-cell:/c%3A/Users/mijim/Documents/Visual%20Studio%20Programas/LaunchX/KataModulo10.ipynb#ch0000014?line=7'>8</a>\u001b[0m \u001b[39mreturn\u001b[39;00m \u001b[39mf\u001b[39m\u001b[39m\"\u001b[39m\u001b[39mTotal de agua restante despues de \u001b[39m\u001b[39m{\u001b[39;00mdias_r\u001b[39m}\u001b[39;00m\u001b[39m dias es \u001b[39m\u001b[39m{\u001b[39;00muso_total_agua\u001b[39m}\u001b[39;00m\u001b[39m\"\u001b[39m\n",
      "\u001b[1;31mRuntimeError\u001b[0m: No hay suficiente agua para 5 astronautas en 2"
     ]
    }
   ],
   "source": [
    "def water_left(astronauta, agua_r, dias_r):\n",
    "    uso_diario = astronauta *11\n",
    "    uso_total = uso_diario * dias_r\n",
    "    uso_total_agua = agua_r * uso_total\n",
    "    uso_total_agua = agua_r - uso_total\n",
    "    if uso_total_agua <0:\n",
    "        raise RuntimeError(f\"No hay suficiente agua para {astronauta} astronautas en {dias_r}\")\n",
    "    return f\"Total de agua restante despues de {dias_r} dias es {uso_total_agua}\"\n",
    "water_left(5, 100, 2)"
   ]
  },
  {
   "cell_type": "markdown",
   "metadata": {},
   "source": [
    "Generar una excepcion en la funcion waterleft() para alertar de la condicion de error:"
   ]
  },
  {
   "cell_type": "code",
   "execution_count": 15,
   "metadata": {},
   "outputs": [
    {
     "name": "stdout",
     "output_type": "stream",
     "text": [
      "No hay suficiente agua para 5 astronautas en 2\n"
     ]
    }
   ],
   "source": [
    "try:\n",
    "    print(water_left(5, 100, 2))\n",
    "except RuntimeError as err:\n",
    "    print(err)"
   ]
  },
  {
   "cell_type": "markdown",
   "metadata": {},
   "source": [
    "La funcion water_left() tambien se puede actualizar para evitar el paso de tipos no admitidos. Intentemos pasar argumentos que no sean enteros para comprobar la salidad de error:"
   ]
  },
  {
   "cell_type": "code",
   "execution_count": 16,
   "metadata": {},
   "outputs": [
    {
     "ename": "TypeError",
     "evalue": "can't multiply sequence by non-int of type 'NoneType'",
     "output_type": "error",
     "traceback": [
      "\u001b[1;31m---------------------------------------------------------------------------\u001b[0m",
      "\u001b[1;31mTypeError\u001b[0m                                 Traceback (most recent call last)",
      "\u001b[1;32mc:\\Users\\mijim\\Documents\\Visual Studio Programas\\LaunchX\\KataModulo10.ipynb Cell 18'\u001b[0m in \u001b[0;36m<module>\u001b[1;34m\u001b[0m\n\u001b[1;32m----> <a href='vscode-notebook-cell:/c%3A/Users/mijim/Documents/Visual%20Studio%20Programas/LaunchX/KataModulo10.ipynb#ch0000018?line=0'>1</a>\u001b[0m water_left(\u001b[39m\"\u001b[39;49m\u001b[39m3\u001b[39;49m\u001b[39m\"\u001b[39;49m, \u001b[39m\"\u001b[39;49m\u001b[39m200\u001b[39;49m\u001b[39m\"\u001b[39;49m, \u001b[39mNone\u001b[39;49;00m)\n",
      "\u001b[1;32mc:\\Users\\mijim\\Documents\\Visual Studio Programas\\LaunchX\\KataModulo10.ipynb Cell 14'\u001b[0m in \u001b[0;36mwater_left\u001b[1;34m(astronauta, agua_r, dias_r)\u001b[0m\n\u001b[0;32m      <a href='vscode-notebook-cell:/c%3A/Users/mijim/Documents/Visual%20Studio%20Programas/LaunchX/KataModulo10.ipynb#ch0000014?line=0'>1</a>\u001b[0m \u001b[39mdef\u001b[39;00m \u001b[39mwater_left\u001b[39m(astronauta, agua_r, dias_r):\n\u001b[0;32m      <a href='vscode-notebook-cell:/c%3A/Users/mijim/Documents/Visual%20Studio%20Programas/LaunchX/KataModulo10.ipynb#ch0000014?line=1'>2</a>\u001b[0m     uso_diario \u001b[39m=\u001b[39m astronauta \u001b[39m*\u001b[39m\u001b[39m11\u001b[39m\n\u001b[1;32m----> <a href='vscode-notebook-cell:/c%3A/Users/mijim/Documents/Visual%20Studio%20Programas/LaunchX/KataModulo10.ipynb#ch0000014?line=2'>3</a>\u001b[0m     uso_total \u001b[39m=\u001b[39m uso_diario \u001b[39m*\u001b[39;49m dias_r\n\u001b[0;32m      <a href='vscode-notebook-cell:/c%3A/Users/mijim/Documents/Visual%20Studio%20Programas/LaunchX/KataModulo10.ipynb#ch0000014?line=3'>4</a>\u001b[0m     uso_total_agua \u001b[39m=\u001b[39m agua_r \u001b[39m*\u001b[39m uso_total\n\u001b[0;32m      <a href='vscode-notebook-cell:/c%3A/Users/mijim/Documents/Visual%20Studio%20Programas/LaunchX/KataModulo10.ipynb#ch0000014?line=4'>5</a>\u001b[0m     uso_total_agua \u001b[39m=\u001b[39m agua_r \u001b[39m-\u001b[39m uso_total\n",
      "\u001b[1;31mTypeError\u001b[0m: can't multiply sequence by non-int of type 'NoneType'"
     ]
    }
   ],
   "source": [
    "water_left(\"3\", \"200\", None)"
   ]
  },
  {
   "cell_type": "markdown",
   "metadata": {},
   "source": [
    "El error TyperError no es muy descriptibo en el contexto de lo que espera la funcion. Actualizaremos la funcion para que use TypeError, pero con un mensaje mejor:"
   ]
  },
  {
   "cell_type": "code",
   "execution_count": 20,
   "metadata": {},
   "outputs": [
    {
     "ename": "TypeError",
     "evalue": "Todos los elementos deben de estar en tipo int",
     "output_type": "error",
     "traceback": [
      "\u001b[1;31m---------------------------------------------------------------------------\u001b[0m",
      "\u001b[1;31mTypeError\u001b[0m                                 Traceback (most recent call last)",
      "\u001b[1;32mc:\\Users\\mijim\\Documents\\Visual Studio Programas\\LaunchX\\KataModulo10.ipynb Cell 20'\u001b[0m in \u001b[0;36mwater_left\u001b[1;34m(astronauta, agua_r, dias_r)\u001b[0m\n\u001b[0;32m      <a href='vscode-notebook-cell:/c%3A/Users/mijim/Documents/Visual%20Studio%20Programas/LaunchX/KataModulo10.ipynb#ch0000020?line=2'>3</a>\u001b[0m \u001b[39mtry\u001b[39;00m:\n\u001b[1;32m----> <a href='vscode-notebook-cell:/c%3A/Users/mijim/Documents/Visual%20Studio%20Programas/LaunchX/KataModulo10.ipynb#ch0000020?line=3'>4</a>\u001b[0m     argumento \u001b[39m/\u001b[39;49m \u001b[39m10\u001b[39;49m\n\u001b[0;32m      <a href='vscode-notebook-cell:/c%3A/Users/mijim/Documents/Visual%20Studio%20Programas/LaunchX/KataModulo10.ipynb#ch0000020?line=4'>5</a>\u001b[0m \u001b[39mexcept\u001b[39;00m \u001b[39mTypeError\u001b[39;00m:\n",
      "\u001b[1;31mTypeError\u001b[0m: unsupported operand type(s) for /: 'str' and 'int'",
      "\nDuring handling of the above exception, another exception occurred:\n",
      "\u001b[1;31mTypeError\u001b[0m                                 Traceback (most recent call last)",
      "\u001b[1;32mc:\\Users\\mijim\\Documents\\Visual Studio Programas\\LaunchX\\KataModulo10.ipynb Cell 20'\u001b[0m in \u001b[0;36m<module>\u001b[1;34m\u001b[0m\n\u001b[0;32m     <a href='vscode-notebook-cell:/c%3A/Users/mijim/Documents/Visual%20Studio%20Programas/LaunchX/KataModulo10.ipynb#ch0000020?line=10'>11</a>\u001b[0m        \u001b[39mraise\u001b[39;00m \u001b[39mRuntimeError\u001b[39;00m(\u001b[39mf\u001b[39m\u001b[39m\"\u001b[39m\u001b[39mNo hay agua para \u001b[39m\u001b[39m{\u001b[39;00mastronauta\u001b[39m}\u001b[39;00m\u001b[39m astronautas despues \u001b[39m\u001b[39m{\u001b[39;00mdias_r\u001b[39m}\u001b[39;00m\u001b[39m dias\u001b[39m\u001b[39m\"\u001b[39m)\n\u001b[0;32m     <a href='vscode-notebook-cell:/c%3A/Users/mijim/Documents/Visual%20Studio%20Programas/LaunchX/KataModulo10.ipynb#ch0000020?line=11'>12</a>\u001b[0m     \u001b[39mreturn\u001b[39;00m \u001b[39mf\u001b[39m\u001b[39m\"\u001b[39m\u001b[39mTotal de agua restante \u001b[39m\u001b[39m{\u001b[39;00mdias_r\u001b[39m}\u001b[39;00m\u001b[39m dias es: \u001b[39m\u001b[39m{\u001b[39;00mtotal_agua\u001b[39m}\u001b[39;00m\u001b[39m litros\u001b[39m\u001b[39m\"\u001b[39m\n\u001b[1;32m---> <a href='vscode-notebook-cell:/c%3A/Users/mijim/Documents/Visual%20Studio%20Programas/LaunchX/KataModulo10.ipynb#ch0000020?line=13'>14</a>\u001b[0m water_left(\u001b[39m\"\u001b[39;49m\u001b[39m3\u001b[39;49m\u001b[39m\"\u001b[39;49m, \u001b[39m\"\u001b[39;49m\u001b[39m200\u001b[39;49m\u001b[39m\"\u001b[39;49m, \u001b[39mNone\u001b[39;49;00m)\n",
      "\u001b[1;32mc:\\Users\\mijim\\Documents\\Visual Studio Programas\\LaunchX\\KataModulo10.ipynb Cell 20'\u001b[0m in \u001b[0;36mwater_left\u001b[1;34m(astronauta, agua_r, dias_r)\u001b[0m\n\u001b[0;32m      <a href='vscode-notebook-cell:/c%3A/Users/mijim/Documents/Visual%20Studio%20Programas/LaunchX/KataModulo10.ipynb#ch0000020?line=3'>4</a>\u001b[0m         argumento \u001b[39m/\u001b[39m \u001b[39m10\u001b[39m\n\u001b[0;32m      <a href='vscode-notebook-cell:/c%3A/Users/mijim/Documents/Visual%20Studio%20Programas/LaunchX/KataModulo10.ipynb#ch0000020?line=4'>5</a>\u001b[0m     \u001b[39mexcept\u001b[39;00m \u001b[39mTypeError\u001b[39;00m:\n\u001b[1;32m----> <a href='vscode-notebook-cell:/c%3A/Users/mijim/Documents/Visual%20Studio%20Programas/LaunchX/KataModulo10.ipynb#ch0000020?line=5'>6</a>\u001b[0m         \u001b[39mraise\u001b[39;00m \u001b[39mTypeError\u001b[39;00m(\u001b[39mf\u001b[39m\u001b[39m\"\u001b[39m\u001b[39mTodos los elementos deben de estar en tipo int\u001b[39m\u001b[39m\"\u001b[39m)\n\u001b[0;32m      <a href='vscode-notebook-cell:/c%3A/Users/mijim/Documents/Visual%20Studio%20Programas/LaunchX/KataModulo10.ipynb#ch0000020?line=6'>7</a>\u001b[0m uso_diario \u001b[39m=\u001b[39m astronauta \u001b[39m*\u001b[39m\u001b[39m11\u001b[39m\n\u001b[0;32m      <a href='vscode-notebook-cell:/c%3A/Users/mijim/Documents/Visual%20Studio%20Programas/LaunchX/KataModulo10.ipynb#ch0000020?line=7'>8</a>\u001b[0m uso_total \u001b[39m=\u001b[39m uso_diario \u001b[39m*\u001b[39m dias_r\n",
      "\u001b[1;31mTypeError\u001b[0m: Todos los elementos deben de estar en tipo int"
     ]
    }
   ],
   "source": [
    "def water_left(astronauta, agua_r, dias_r):\n",
    "    for argumento in [astronauta, agua_r, dias_r]:\n",
    "        try:\n",
    "            argumento / 10\n",
    "        except TypeError:\n",
    "            raise TypeError(f\"Todos los elementos deben de estar en tipo int\")\n",
    "    uso_diario = astronauta *11\n",
    "    uso_total = uso_diario * dias_r\n",
    "    total_agua = agua_r - uso_total\n",
    "    if total_agua <0:\n",
    "       raise RuntimeError(f\"No hay agua para {astronauta} astronautas despues {dias_r} dias\")\n",
    "    return f\"Total de agua restante {dias_r} dias es: {total_agua} litros\"\n",
    "\n",
    "water_left(\"3\", \"200\", None)"
   ]
  },
  {
   "cell_type": "markdown",
   "metadata": {},
   "source": [
    "Con la misma funcion ingresamos datos del tipo INT y como se observa funciona correctamente"
   ]
  },
  {
   "cell_type": "code",
   "execution_count": 21,
   "metadata": {},
   "outputs": [
    {
     "data": {
      "text/plain": [
       "'Total de agua restante 1 dias es: 167 litros'"
      ]
     },
     "execution_count": 21,
     "metadata": {},
     "output_type": "execute_result"
    }
   ],
   "source": [
    "water_left(3, 200, 1)"
   ]
  }
 ],
 "metadata": {
  "interpreter": {
   "hash": "5907c8854fefef16f8b18430ee10aa92a09138d0841eb92123209d108dd4366b"
  },
  "kernelspec": {
   "display_name": "Python 3.10.2 ('env': venv)",
   "language": "python",
   "name": "python3"
  },
  "language_info": {
   "codemirror_mode": {
    "name": "ipython",
    "version": 3
   },
   "file_extension": ".py",
   "mimetype": "text/x-python",
   "name": "python",
   "nbconvert_exporter": "python",
   "pygments_lexer": "ipython3",
   "version": "3.10.2"
  },
  "orig_nbformat": 4
 },
 "nbformat": 4,
 "nbformat_minor": 2
}
